{
  "nbformat": 4,
  "nbformat_minor": 0,
  "metadata": {
    "colab": {
      "provenance": []
    },
    "kernelspec": {
      "name": "python3",
      "display_name": "Python 3"
    },
    "language_info": {
      "name": "python"
    }
  },
  "cells": [
    {
      "cell_type": "code",
      "execution_count": null,
      "metadata": {
        "id": "2CYGst8fEjBA"
      },
      "outputs": [],
      "source": [
        "#library imports\n",
        "import pandas as pd\n",
        "import numpy as np\n",
        "import torch\n",
        "import matplotlib.pyplot as plt\n",
        "import random\n",
        "import seaborn as sns\n",
        "from sklearn.model_selection import train_test_split"
      ]
    },
    {
      "cell_type": "markdown",
      "source": [
        "## Getting IRIS Dataset"
      ],
      "metadata": {
        "id": "MTjAg-OUGIQ5"
      }
    },
    {
      "cell_type": "code",
      "source": [
        "!wget https://archive.ics.uci.edu/ml/machine-learning-databases/iris/iris.data > /dev/null\n",
        "!wget https://archive.ics.uci.edu/ml/machine-learning-databases/iris/iris.names > /dev/null"
      ],
      "metadata": {
        "colab": {
          "base_uri": "https://localhost:8080/"
        },
        "id": "EeqKjfB0GF5G",
        "outputId": "a43448bc-5f75-4555-9302-1b86155fa2b2"
      },
      "execution_count": null,
      "outputs": [
        {
          "output_type": "stream",
          "name": "stdout",
          "text": [
            "--2023-03-12 20:03:30--  https://archive.ics.uci.edu/ml/machine-learning-databases/iris/iris.data\n",
            "Resolving archive.ics.uci.edu (archive.ics.uci.edu)... 128.195.10.252\n",
            "Connecting to archive.ics.uci.edu (archive.ics.uci.edu)|128.195.10.252|:443... connected.\n",
            "HTTP request sent, awaiting response... 200 OK\n",
            "Length: 4551 (4.4K) [application/x-httpd-php]\n",
            "Saving to: ‘iris.data’\n",
            "\n",
            "iris.data           100%[===================>]   4.44K  --.-KB/s    in 0s      \n",
            "\n",
            "2023-03-12 20:03:30 (85.5 MB/s) - ‘iris.data’ saved [4551/4551]\n",
            "\n",
            "--2023-03-12 20:03:30--  https://archive.ics.uci.edu/ml/machine-learning-databases/iris/iris.names\n",
            "Resolving archive.ics.uci.edu (archive.ics.uci.edu)... 128.195.10.252\n",
            "Connecting to archive.ics.uci.edu (archive.ics.uci.edu)|128.195.10.252|:443... connected.\n",
            "HTTP request sent, awaiting response... 200 OK\n",
            "Length: 2998 (2.9K) [application/x-httpd-php]\n",
            "Saving to: ‘iris.names’\n",
            "\n",
            "iris.names          100%[===================>]   2.93K  --.-KB/s    in 0s      \n",
            "\n",
            "2023-03-12 20:03:30 (43.0 MB/s) - ‘iris.names’ saved [2998/2998]\n",
            "\n"
          ]
        }
      ]
    },
    {
      "cell_type": "markdown",
      "source": [
        "## Reading IRIS Dataset using Pandas"
      ],
      "metadata": {
        "id": "IJwAstfGIFp8"
      }
    },
    {
      "cell_type": "code",
      "source": [
        "df = pd.read_csv('iris.data', sep=',',names=['sepal_length','sepal_width','petal_length','petal_width', 'label'])"
      ],
      "metadata": {
        "id": "Ks2E_5TpHG0y"
      },
      "execution_count": null,
      "outputs": []
    },
    {
      "cell_type": "code",
      "source": [
        "df.head()"
      ],
      "metadata": {
        "colab": {
          "base_uri": "https://localhost:8080/",
          "height": 204
        },
        "id": "0wjxuLkuIZ8r",
        "outputId": "13e6a536-4560-494d-98f9-a2187e98db48"
      },
      "execution_count": null,
      "outputs": [
        {
          "output_type": "execute_result",
          "data": {
            "text/plain": [
              "   sepal_length  sepal_width  petal_length  petal_width        label\n",
              "0           5.1          3.5           1.4          0.2  Iris-setosa\n",
              "1           4.9          3.0           1.4          0.2  Iris-setosa\n",
              "2           4.7          3.2           1.3          0.2  Iris-setosa\n",
              "3           4.6          3.1           1.5          0.2  Iris-setosa\n",
              "4           5.0          3.6           1.4          0.2  Iris-setosa"
            ],
            "text/html": [
              "\n",
              "  <div id=\"df-a240f392-d293-4f25-933a-b26c90da776c\">\n",
              "    <div class=\"colab-df-container\">\n",
              "      <div>\n",
              "<style scoped>\n",
              "    .dataframe tbody tr th:only-of-type {\n",
              "        vertical-align: middle;\n",
              "    }\n",
              "\n",
              "    .dataframe tbody tr th {\n",
              "        vertical-align: top;\n",
              "    }\n",
              "\n",
              "    .dataframe thead th {\n",
              "        text-align: right;\n",
              "    }\n",
              "</style>\n",
              "<table border=\"1\" class=\"dataframe\">\n",
              "  <thead>\n",
              "    <tr style=\"text-align: right;\">\n",
              "      <th></th>\n",
              "      <th>sepal_length</th>\n",
              "      <th>sepal_width</th>\n",
              "      <th>petal_length</th>\n",
              "      <th>petal_width</th>\n",
              "      <th>label</th>\n",
              "    </tr>\n",
              "  </thead>\n",
              "  <tbody>\n",
              "    <tr>\n",
              "      <th>0</th>\n",
              "      <td>5.1</td>\n",
              "      <td>3.5</td>\n",
              "      <td>1.4</td>\n",
              "      <td>0.2</td>\n",
              "      <td>Iris-setosa</td>\n",
              "    </tr>\n",
              "    <tr>\n",
              "      <th>1</th>\n",
              "      <td>4.9</td>\n",
              "      <td>3.0</td>\n",
              "      <td>1.4</td>\n",
              "      <td>0.2</td>\n",
              "      <td>Iris-setosa</td>\n",
              "    </tr>\n",
              "    <tr>\n",
              "      <th>2</th>\n",
              "      <td>4.7</td>\n",
              "      <td>3.2</td>\n",
              "      <td>1.3</td>\n",
              "      <td>0.2</td>\n",
              "      <td>Iris-setosa</td>\n",
              "    </tr>\n",
              "    <tr>\n",
              "      <th>3</th>\n",
              "      <td>4.6</td>\n",
              "      <td>3.1</td>\n",
              "      <td>1.5</td>\n",
              "      <td>0.2</td>\n",
              "      <td>Iris-setosa</td>\n",
              "    </tr>\n",
              "    <tr>\n",
              "      <th>4</th>\n",
              "      <td>5.0</td>\n",
              "      <td>3.6</td>\n",
              "      <td>1.4</td>\n",
              "      <td>0.2</td>\n",
              "      <td>Iris-setosa</td>\n",
              "    </tr>\n",
              "  </tbody>\n",
              "</table>\n",
              "</div>\n",
              "      <button class=\"colab-df-convert\" onclick=\"convertToInteractive('df-a240f392-d293-4f25-933a-b26c90da776c')\"\n",
              "              title=\"Convert this dataframe to an interactive table.\"\n",
              "              style=\"display:none;\">\n",
              "        \n",
              "  <svg xmlns=\"http://www.w3.org/2000/svg\" height=\"24px\"viewBox=\"0 0 24 24\"\n",
              "       width=\"24px\">\n",
              "    <path d=\"M0 0h24v24H0V0z\" fill=\"none\"/>\n",
              "    <path d=\"M18.56 5.44l.94 2.06.94-2.06 2.06-.94-2.06-.94-.94-2.06-.94 2.06-2.06.94zm-11 1L8.5 8.5l.94-2.06 2.06-.94-2.06-.94L8.5 2.5l-.94 2.06-2.06.94zm10 10l.94 2.06.94-2.06 2.06-.94-2.06-.94-.94-2.06-.94 2.06-2.06.94z\"/><path d=\"M17.41 7.96l-1.37-1.37c-.4-.4-.92-.59-1.43-.59-.52 0-1.04.2-1.43.59L10.3 9.45l-7.72 7.72c-.78.78-.78 2.05 0 2.83L4 21.41c.39.39.9.59 1.41.59.51 0 1.02-.2 1.41-.59l7.78-7.78 2.81-2.81c.8-.78.8-2.07 0-2.86zM5.41 20L4 18.59l7.72-7.72 1.47 1.35L5.41 20z\"/>\n",
              "  </svg>\n",
              "      </button>\n",
              "      \n",
              "  <style>\n",
              "    .colab-df-container {\n",
              "      display:flex;\n",
              "      flex-wrap:wrap;\n",
              "      gap: 12px;\n",
              "    }\n",
              "\n",
              "    .colab-df-convert {\n",
              "      background-color: #E8F0FE;\n",
              "      border: none;\n",
              "      border-radius: 50%;\n",
              "      cursor: pointer;\n",
              "      display: none;\n",
              "      fill: #1967D2;\n",
              "      height: 32px;\n",
              "      padding: 0 0 0 0;\n",
              "      width: 32px;\n",
              "    }\n",
              "\n",
              "    .colab-df-convert:hover {\n",
              "      background-color: #E2EBFA;\n",
              "      box-shadow: 0px 1px 2px rgba(60, 64, 67, 0.3), 0px 1px 3px 1px rgba(60, 64, 67, 0.15);\n",
              "      fill: #174EA6;\n",
              "    }\n",
              "\n",
              "    [theme=dark] .colab-df-convert {\n",
              "      background-color: #3B4455;\n",
              "      fill: #D2E3FC;\n",
              "    }\n",
              "\n",
              "    [theme=dark] .colab-df-convert:hover {\n",
              "      background-color: #434B5C;\n",
              "      box-shadow: 0px 1px 3px 1px rgba(0, 0, 0, 0.15);\n",
              "      filter: drop-shadow(0px 1px 2px rgba(0, 0, 0, 0.3));\n",
              "      fill: #FFFFFF;\n",
              "    }\n",
              "  </style>\n",
              "\n",
              "      <script>\n",
              "        const buttonEl =\n",
              "          document.querySelector('#df-a240f392-d293-4f25-933a-b26c90da776c button.colab-df-convert');\n",
              "        buttonEl.style.display =\n",
              "          google.colab.kernel.accessAllowed ? 'block' : 'none';\n",
              "\n",
              "        async function convertToInteractive(key) {\n",
              "          const element = document.querySelector('#df-a240f392-d293-4f25-933a-b26c90da776c');\n",
              "          const dataTable =\n",
              "            await google.colab.kernel.invokeFunction('convertToInteractive',\n",
              "                                                     [key], {});\n",
              "          if (!dataTable) return;\n",
              "\n",
              "          const docLinkHtml = 'Like what you see? Visit the ' +\n",
              "            '<a target=\"_blank\" href=https://colab.research.google.com/notebooks/data_table.ipynb>data table notebook</a>'\n",
              "            + ' to learn more about interactive tables.';\n",
              "          element.innerHTML = '';\n",
              "          dataTable['output_type'] = 'display_data';\n",
              "          await google.colab.output.renderOutput(dataTable, element);\n",
              "          const docLink = document.createElement('div');\n",
              "          docLink.innerHTML = docLinkHtml;\n",
              "          element.appendChild(docLink);\n",
              "        }\n",
              "      </script>\n",
              "    </div>\n",
              "  </div>\n",
              "  "
            ]
          },
          "metadata": {},
          "execution_count": 4
        }
      ]
    },
    {
      "cell_type": "markdown",
      "source": [
        "## Data Visualization"
      ],
      "metadata": {
        "id": "IHKAM9lYcvbd"
      }
    },
    {
      "cell_type": "code",
      "source": [
        "sns.scatterplot(data=df,y='sepal_width', x='petal_width',hue='label',cmap='gray')"
      ],
      "metadata": {
        "colab": {
          "base_uri": "https://localhost:8080/",
          "height": 300
        },
        "id": "1YoJtXBMI_x2",
        "outputId": "46997315-555a-4df4-8be9-9a93be2f1c9f"
      },
      "execution_count": null,
      "outputs": [
        {
          "output_type": "execute_result",
          "data": {
            "text/plain": [
              "<AxesSubplot:xlabel='petal_width', ylabel='sepal_width'>"
            ]
          },
          "metadata": {},
          "execution_count": 5
        },
        {
          "output_type": "display_data",
          "data": {
            "text/plain": [
              "<Figure size 432x288 with 1 Axes>"
            ],
            "image/png": "[encoded data removed]"
          },
          "metadata": {
            "needs_background": "light"
          }
        }
      ]
    },
    {
      "cell_type": "code",
      "source": [
        "sns.scatterplot(data=df,x='sepal_width', y='petal_length',hue='label',cmap='gray')"
      ],
      "metadata": {
        "colab": {
          "base_uri": "https://localhost:8080/",
          "height": 297
        },
        "id": "4hgvNKLiNyqy",
        "outputId": "491c73e7-6ed4-4b9e-abf6-2f61e0367f80"
      },
      "execution_count": null,
      "outputs": [
        {
          "output_type": "execute_result",
          "data": {
            "text/plain": [
              "<AxesSubplot:xlabel='sepal_width', ylabel='petal_length'>"
            ]
          },
          "metadata": {},
          "execution_count": 6
        },
        {
          "output_type": "display_data",
          "data": {
            "text/plain": [
              "<Figure size 432x288 with 1 Axes>"
            ],
            "image/png": "[encoded data removed]"
          },
          "metadata": {
            "needs_background": "light"
          }
        }
      ]
    },
    {
      "cell_type": "markdown",
      "source": [
        "#### We can select sepal width and petal length as our features and classes as iris-setosa and iris-versicolor"
      ],
      "metadata": {
        "id": "XjugxbpVlsLT"
      }
    },
    {
      "cell_type": "markdown",
      "source": [
        "## Converting data to Tensors for training"
      ],
      "metadata": {
        "id": "EJCQPH3pcuXz"
      }
    },
    {
      "cell_type": "code",
      "source": [
        "classes=['Iris-setosa','Iris-versicolor']\n",
        "tmp=df[df['label'].isin(classes)]\n",
        "tmp['label'].apply(lambda x:int(x=='Iris-setosa'))"
      ],
      "metadata": {
        "colab": {
          "base_uri": "https://localhost:8080/"
        },
        "id": "WLkmOZa4rXaC",
        "outputId": "3bd8a9f6-7096-45d6-a408-8b67062f0e3c"
      },
      "execution_count": null,
      "outputs": [
        {
          "output_type": "execute_result",
          "data": {
            "text/plain": [
              "0     1\n",
              "1     1\n",
              "2     1\n",
              "3     1\n",
              "4     1\n",
              "     ..\n",
              "95    0\n",
              "96    0\n",
              "97    0\n",
              "98    0\n",
              "99    0\n",
              "Name: label, Length: 100, dtype: int64"
            ]
          },
          "metadata": {},
          "execution_count": 7
        }
      ]
    },
    {
      "cell_type": "markdown",
      "source": [
        "## Generating torch tensors from dataframe"
      ],
      "metadata": {
        "id": "Y2j2vfvq09Wl"
      }
    },
    {
      "cell_type": "code",
      "source": [
        "def get_data(df,features=['sepal_width','petal_length'], label='label', classes=['Iris-setosa','Iris-versicolor']):\n",
        "  data = df[df['label'].isin(classes)]\n",
        "  data['out']=df['label'].apply(lambda x:int(x=='Iris-setosa'))\n",
        "  X = torch.from_numpy(data[features].astype(float).to_numpy())\n",
        "  Y = torch.from_numpy(data['out'].astype(float).to_numpy()).unsqueeze(1)\n",
        "  return X,Y"
      ],
      "metadata": {
        "id": "ZJEGRi8xcDdo"
      },
      "execution_count": null,
      "outputs": []
    },
    {
      "cell_type": "code",
      "source": [
        "def plot_data(df,features=['sepal_width','petal_length'], label='label', classes=['Iris-setosa','Iris-versicolor']):\n",
        "  data = df[df['label'].isin(classes)]\n",
        "  sns.scatterplot(data=data,x=features[0], y=features[1],hue='label',cmap='gray')\n"
      ],
      "metadata": {
        "id": "gnDDsHwJ1C7d"
      },
      "execution_count": null,
      "outputs": []
    },
    {
      "cell_type": "code",
      "source": [
        "def get_data_split(df,features=['sepal_width','petal_length'], label='label', classes=['Iris-setosa','Iris-versicolor']):\n",
        "  data = df[df['label'].isin(classes)]\n",
        "  data['out']=df['label'].apply(lambda x:int(x=='Iris-setosa'))\n",
        "  print(data.head())\n",
        "  data_train,data_test = train_test_split(data,test_size=0.2,stratify=data[label])\n",
        "  X_train = torch.from_numpy(data_train[features].astype(float).to_numpy())\n",
        "  Y_train = torch.from_numpy(data_train['out'].astype(float).to_numpy()).unsqueeze(1)\n",
        "  X_test = torch.from_numpy(data_test[features].astype(float).to_numpy())\n",
        "  Y_test = torch.from_numpy(data_test['out'].astype(float).to_numpy()).unsqueeze(1)\n",
        "  return X_train,Y_train, X_test, Y_test"
      ],
      "metadata": {
        "id": "JGlOBsCQ08b_"
      },
      "execution_count": null,
      "outputs": []
    },
    {
      "cell_type": "code",
      "source": [
        "X, Y = get_data(df)"
      ],
      "metadata": {
        "colab": {
          "base_uri": "https://localhost:8080/"
        },
        "id": "HUg3ZgiMqsBG",
        "outputId": "498f5b15-bc52-4788-828a-9036956be9fb"
      },
      "execution_count": null,
      "outputs": [
        {
          "output_type": "stream",
          "name": "stderr",
          "text": [
            "<ipython-input-8-9c943960df37>:3: SettingWithCopyWarning: \n",
            "A value is trying to be set on a copy of a slice from a DataFrame.\n",
            "Try using .loc[row_indexer,col_indexer] = value instead\n",
            "\n",
            "See the caveats in the documentation: https://pandas.pydata.org/pandas-docs/stable/user_guide/indexing.html#returning-a-view-versus-a-copy\n",
            "  data['out']=df['label'].apply(lambda x:int(x=='Iris-setosa'))\n"
          ]
        }
      ]
    },
    {
      "cell_type": "code",
      "source": [
        "plot_data(df)"
      ],
      "metadata": {
        "colab": {
          "base_uri": "https://localhost:8080/",
          "height": 280
        },
        "id": "WWVTJagW1rHn",
        "outputId": "a5c67bf5-2ada-44b9-da38-7bc4b08a0fc2"
      },
      "execution_count": null,
      "outputs": [
        {
          "output_type": "display_data",
          "data": {
            "text/plain": [
              "<Figure size 432x288 with 1 Axes>"
            ],
            "image/png": "[encoded data removed]"
          },
          "metadata": {
            "needs_background": "light"
          }
        }
      ]
    },
    {
      "cell_type": "code",
      "source": [
        "X_train, Y_train, X_test, Y_test = get_data_split(df)"
      ],
      "metadata": {
        "colab": {
          "base_uri": "https://localhost:8080/"
        },
        "id": "BjnBj7Wh19-9",
        "outputId": "4909d466-ac79-4037-872d-c57c77b30d75"
      },
      "execution_count": null,
      "outputs": [
        {
          "output_type": "stream",
          "name": "stdout",
          "text": [
            "   sepal_length  sepal_width  petal_length  petal_width        label  out\n",
            "0           5.1          3.5           1.4          0.2  Iris-setosa    1\n",
            "1           4.9          3.0           1.4          0.2  Iris-setosa    1\n",
            "2           4.7          3.2           1.3          0.2  Iris-setosa    1\n",
            "3           4.6          3.1           1.5          0.2  Iris-setosa    1\n",
            "4           5.0          3.6           1.4          0.2  Iris-setosa    1\n"
          ]
        },
        {
          "output_type": "stream",
          "name": "stderr",
          "text": [
            "<ipython-input-10-6fc96c7aebbf>:3: SettingWithCopyWarning: \n",
            "A value is trying to be set on a copy of a slice from a DataFrame.\n",
            "Try using .loc[row_indexer,col_indexer] = value instead\n",
            "\n",
            "See the caveats in the documentation: https://pandas.pydata.org/pandas-docs/stable/user_guide/indexing.html#returning-a-view-versus-a-copy\n",
            "  data['out']=df['label'].apply(lambda x:int(x=='Iris-setosa'))\n"
          ]
        }
      ]
    },
    {
      "cell_type": "code",
      "source": [
        "label_names = {1:'Iris-setosa',0:'Iris-versicolor'}"
      ],
      "metadata": {
        "id": "6-lFMbwG4hNg"
      },
      "execution_count": null,
      "outputs": []
    },
    {
      "cell_type": "code",
      "source": [
        "# Adding 1 to X_train for bias\n",
        "ones = torch.ones((X_train.shape[0],1),dtype=torch.float64)\n",
        "X_train = torch.cat((X_train,ones),-1)\n",
        "\n",
        "# Adding 1 to X_test for bias\n",
        "ones = torch.ones((X_test.shape[0],1),dtype=torch.float64)\n",
        "X_test = torch.cat((X_test,ones),-1)"
      ],
      "metadata": {
        "id": "NSD4LUG294Nc"
      },
      "execution_count": null,
      "outputs": []
    },
    {
      "cell_type": "code",
      "source": [
        "print(\"Shape of the features and output\")\n",
        "print(X_train.shape, Y_train.shape, X_test.shape, Y_test.shape)"
      ],
      "metadata": {
        "colab": {
          "base_uri": "https://localhost:8080/"
        },
        "id": "KSIX_98vq3Nn",
        "outputId": "55c8f46c-9439-441c-f189-5692c26ea4ed"
      },
      "execution_count": null,
      "outputs": [
        {
          "output_type": "stream",
          "name": "stdout",
          "text": [
            "Shape of the features and output\n",
            "torch.Size([80, 3]) torch.Size([80, 1]) torch.Size([20, 3]) torch.Size([20, 1])\n"
          ]
        }
      ]
    },
    {
      "cell_type": "markdown",
      "source": [
        "# Split Ratio and Equal Class distribution"
      ],
      "metadata": {
        "id": "fxpyCOw48nUo"
      }
    },
    {
      "cell_type": "code",
      "source": [
        "print(\"Count of the training data\")\n",
        "print(X_train.shape[0])\n",
        "print(\"Count of each label in Training Data\")\n",
        "_1 = Y_train.sum()\n",
        "_2 = Y_train.shape[0] - _1\n",
        "print('Iris-setosa: '+str(_1.item()),' Iris-versicolor: '+str(_2.item()))\n",
        "print()\n",
        "print(\"Count of the testing data\")\n",
        "print(X_test.shape[0])\n",
        "print(\"Count of each label in Testing Data\")\n",
        "_1 = Y_test.sum()\n",
        "_2 = Y_test.shape[0] - _1\n",
        "print('Iris-setosa: '+str(_1.item()),' Iris-versicolor: '+str(_2.item()))"
      ],
      "metadata": {
        "colab": {
          "base_uri": "https://localhost:8080/"
        },
        "id": "YJqPATwb8nC3",
        "outputId": "24d0c9cc-ff65-45fb-de9a-942130b31e04"
      },
      "execution_count": null,
      "outputs": [
        {
          "output_type": "stream",
          "name": "stdout",
          "text": [
            "Count of the training data\n",
            "80\n",
            "Count of each label in Training Data\n",
            "Iris-setosa: 40.0  Iris-versicolor: 40.0\n",
            "\n",
            "Count of the testing data\n",
            "20\n",
            "Count of each label in Testing Data\n",
            "Iris-setosa: 10.0  Iris-versicolor: 10.0\n"
          ]
        }
      ]
    },
    {
      "cell_type": "markdown",
      "source": [
        "### Logistic Regression"
      ],
      "metadata": {
        "id": "yvIkhZcZ8-Ev"
      }
    },
    {
      "cell_type": "code",
      "source": [
        "# forward pass\n",
        "def logreg(X,W):\n",
        "  \"\"\"The linear regression model.\"\"\"\n",
        "  y_pred = torch.matmul(X, W)\n",
        "  return sigmoid(y_pred)"
      ],
      "metadata": {
        "id": "vWhb8lrHtjyk"
      },
      "execution_count": null,
      "outputs": []
    },
    {
      "cell_type": "code",
      "source": [
        "# Computing the MSE\n",
        "def MSE_loss(y_out, y_true):\n",
        "  \"\"\"Squared loss.\"\"\"\n",
        "  return (y_true.reshape(y_out.shape)-y_out )**2 / 2"
      ],
      "metadata": {
        "id": "cXHtDCkg9wSx"
      },
      "execution_count": null,
      "outputs": []
    },
    {
      "cell_type": "code",
      "source": [
        "# Sigmoid Function\n",
        "def sigmoid(X):\n",
        "  return 1/(1+torch.exp(-X))"
      ],
      "metadata": {
        "id": "IDzYgKI4_7PL"
      },
      "execution_count": null,
      "outputs": []
    },
    {
      "cell_type": "code",
      "source": [
        "# data preperation\n",
        "# Lecture 5 Notebook\n",
        "def data_iter(batch_size, features, labels):\n",
        "  num_examples = len(features)\n",
        "  indices = list(range(num_examples))\n",
        "  # The examples are read at random, in no particular order\n",
        "  random.shuffle(indices)\n",
        "  for i in range(0, num_examples, batch_size):\n",
        "    batch_indices = torch.tensor(indices[i:min(i +\n",
        "    batch_size, num_examples)])\n",
        "  yield features[batch_indices], labels[batch_indices]"
      ],
      "metadata": {
        "id": "REpQOkt9CH3v"
      },
      "execution_count": null,
      "outputs": []
    },
    {
      "cell_type": "code",
      "source": [
        "# Generate Random W\n",
        "def get_init_params(n=3):\n",
        "  return torch.normal(0, 0.01, size=(n, 1), requires_grad=False, dtype=torch.float64)"
      ],
      "metadata": {
        "id": "kAYbwMXRMm3H"
      },
      "execution_count": null,
      "outputs": []
    },
    {
      "cell_type": "code",
      "source": [
        "# Hyperparameters\n",
        "num_epochs = 100\n",
        "lr = 0.0001\n",
        "batch_size = 10"
      ],
      "metadata": {
        "id": "OPpplotlP9mF"
      },
      "execution_count": null,
      "outputs": []
    },
    {
      "cell_type": "code",
      "source": [
        "W = get_init_params()\n",
        "acc = []\n",
        "loss = []\n",
        "for epoch in range(num_epochs):\n",
        "\n",
        "  for X_batch, Y_batch in data_iter(batch_size, X_train, Y_train):\n",
        "\n",
        "    Y_pred = logreg(X_batch,W)\n",
        "    #print(Y_pred, Y_batch)\n",
        "    W = W + lr * torch.sum((Y_batch-Y_pred) * (1 - Y_pred) * Y_pred * X_batch,axis=0).unsqueeze(1)\n",
        "  Y_temp = logreg(X_train,W)\n",
        "  train_loss = float(torch.sum(MSE_loss(Y_temp,Y_train)))\n",
        "  train_acc = ((Y_temp > 0.5) == Y_train).float().mean().item()*100\n",
        "  print('training loss: {:.2f} train accuracy: {:.2f}'.format(train_loss,train_acc))\n",
        "  loss.append(train_loss)\n",
        "  acc.append(train_acc)\n",
        "print(W)"
      ],
      "metadata": {
        "colab": {
          "base_uri": "https://localhost:8080/"
        },
        "id": "STyh3C7INE-F",
        "outputId": "dafd3f03-9453-4e1d-a9c3-77f73063247b"
      },
      "execution_count": null,
      "outputs": [
        {
          "output_type": "stream",
          "name": "stdout",
          "text": [
            "training loss: 9.83 train accuracy: 75.00\n",
            "training loss: 9.83 train accuracy: 78.75\n",
            "training loss: 9.83 train accuracy: 88.75\n",
            "training loss: 9.83 train accuracy: 85.00\n",
            "training loss: 9.82 train accuracy: 92.50\n",
            "training loss: 9.82 train accuracy: 96.25\n",
            "training loss: 9.81 train accuracy: 98.75\n",
            "training loss: 9.81 train accuracy: 98.75\n",
            "training loss: 9.81 train accuracy: 98.75\n",
            "training loss: 9.81 train accuracy: 98.75\n",
            "training loss: 9.80 train accuracy: 98.75\n",
            "training loss: 9.80 train accuracy: 98.75\n",
            "training loss: 9.80 train accuracy: 98.75\n",
            "training loss: 9.80 train accuracy: 98.75\n",
            "training loss: 9.80 train accuracy: 98.75\n",
            "training loss: 9.79 train accuracy: 98.75\n",
            "training loss: 9.79 train accuracy: 100.00\n",
            "training loss: 9.79 train accuracy: 100.00\n",
            "training loss: 9.78 train accuracy: 100.00\n",
            "training loss: 9.78 train accuracy: 100.00\n",
            "training loss: 9.78 train accuracy: 100.00\n",
            "training loss: 9.78 train accuracy: 100.00\n",
            "training loss: 9.77 train accuracy: 100.00\n",
            "training loss: 9.77 train accuracy: 100.00\n",
            "training loss: 9.77 train accuracy: 100.00\n",
            "training loss: 9.77 train accuracy: 100.00\n",
            "training loss: 9.76 train accuracy: 100.00\n",
            "training loss: 9.76 train accuracy: 100.00\n",
            "training loss: 9.76 train accuracy: 100.00\n",
            "training loss: 9.76 train accuracy: 100.00\n",
            "training loss: 9.76 train accuracy: 100.00\n",
            "training loss: 9.76 train accuracy: 100.00\n",
            "training loss: 9.75 train accuracy: 100.00\n",
            "training loss: 9.75 train accuracy: 100.00\n",
            "training loss: 9.75 train accuracy: 100.00\n",
            "training loss: 9.75 train accuracy: 100.00\n",
            "training loss: 9.74 train accuracy: 100.00\n",
            "training loss: 9.74 train accuracy: 100.00\n",
            "training loss: 9.74 train accuracy: 100.00\n",
            "training loss: 9.73 train accuracy: 100.00\n",
            "training loss: 9.73 train accuracy: 100.00\n",
            "training loss: 9.73 train accuracy: 100.00\n",
            "training loss: 9.72 train accuracy: 100.00\n",
            "training loss: 9.72 train accuracy: 100.00\n",
            "training loss: 9.72 train accuracy: 100.00\n",
            "training loss: 9.72 train accuracy: 100.00\n",
            "training loss: 9.72 train accuracy: 100.00\n",
            "training loss: 9.71 train accuracy: 100.00\n",
            "training loss: 9.71 train accuracy: 100.00\n",
            "training loss: 9.71 train accuracy: 100.00\n",
            "training loss: 9.70 train accuracy: 100.00\n",
            "training loss: 9.70 train accuracy: 100.00\n",
            "training loss: 9.70 train accuracy: 100.00\n",
            "training loss: 9.70 train accuracy: 100.00\n",
            "training loss: 9.69 train accuracy: 100.00\n",
            "training loss: 9.69 train accuracy: 100.00\n",
            "training loss: 9.69 train accuracy: 100.00\n",
            "training loss: 9.69 train accuracy: 100.00\n",
            "training loss: 9.69 train accuracy: 100.00\n",
            "training loss: 9.68 train accuracy: 100.00\n",
            "training loss: 9.68 train accuracy: 100.00\n",
            "training loss: 9.68 train accuracy: 100.00\n",
            "training loss: 9.68 train accuracy: 100.00\n",
            "training loss: 9.68 train accuracy: 100.00\n",
            "training loss: 9.68 train accuracy: 100.00\n",
            "training loss: 9.67 train accuracy: 100.00\n",
            "training loss: 9.67 train accuracy: 100.00\n",
            "training loss: 9.67 train accuracy: 100.00\n",
            "training loss: 9.67 train accuracy: 100.00\n",
            "training loss: 9.67 train accuracy: 100.00\n",
            "training loss: 9.66 train accuracy: 100.00\n",
            "training loss: 9.66 train accuracy: 100.00\n",
            "training loss: 9.66 train accuracy: 100.00\n",
            "training loss: 9.65 train accuracy: 100.00\n",
            "training loss: 9.65 train accuracy: 100.00\n",
            "training loss: 9.65 train accuracy: 100.00\n",
            "training loss: 9.65 train accuracy: 100.00\n",
            "training loss: 9.64 train accuracy: 100.00\n",
            "training loss: 9.64 train accuracy: 100.00\n",
            "training loss: 9.64 train accuracy: 100.00\n",
            "training loss: 9.64 train accuracy: 100.00\n",
            "training loss: 9.63 train accuracy: 100.00\n",
            "training loss: 9.63 train accuracy: 100.00\n",
            "training loss: 9.63 train accuracy: 100.00\n",
            "training loss: 9.62 train accuracy: 100.00\n",
            "training loss: 9.62 train accuracy: 100.00\n",
            "training loss: 9.62 train accuracy: 100.00\n",
            "training loss: 9.62 train accuracy: 100.00\n",
            "training loss: 9.61 train accuracy: 100.00\n",
            "training loss: 9.61 train accuracy: 100.00\n",
            "training loss: 9.61 train accuracy: 100.00\n",
            "training loss: 9.61 train accuracy: 100.00\n",
            "training loss: 9.60 train accuracy: 100.00\n",
            "training loss: 9.60 train accuracy: 100.00\n",
            "training loss: 9.60 train accuracy: 100.00\n",
            "training loss: 9.60 train accuracy: 100.00\n",
            "training loss: 9.60 train accuracy: 100.00\n",
            "training loss: 9.60 train accuracy: 100.00\n",
            "training loss: 9.60 train accuracy: 100.00\n",
            "training loss: 9.59 train accuracy: 100.00\n",
            "tensor([[ 0.0168],\n",
            "        [-0.0253],\n",
            "        [ 0.0066]], dtype=torch.float64)\n"
          ]
        }
      ]
    },
    {
      "cell_type": "markdown",
      "source": [
        "## Final Weights after Training"
      ],
      "metadata": {
        "id": "djrQVLcdu5y3"
      }
    },
    {
      "cell_type": "code",
      "source": [
        "print(\"Final Weights\")\n",
        "print(W)"
      ],
      "metadata": {
        "colab": {
          "base_uri": "https://localhost:8080/"
        },
        "id": "HDKOZ2k0u9V6",
        "outputId": "952c6dcd-2225-4aa3-ee58-1b3cb0d5bbb8"
      },
      "execution_count": null,
      "outputs": [
        {
          "output_type": "stream",
          "name": "stdout",
          "text": [
            "Final Weights\n",
            "tensor([[ 0.0168],\n",
            "        [-0.0253],\n",
            "        [ 0.0066]], dtype=torch.float64)\n"
          ]
        }
      ]
    },
    {
      "cell_type": "code",
      "source": [
        "Y_pred = logreg(X_train,W)\n",
        "accuracy = ((Y_pred > 0.5) == Y_train).float().mean()\n",
        "print(\"Accuracy over the training data :{}%\".format(accuracy.item()*100))"
      ],
      "metadata": {
        "id": "wSRrfwyLRhbl",
        "colab": {
          "base_uri": "https://localhost:8080/"
        },
        "outputId": "89630536-07d3-4963-de65-950341191b12"
      },
      "execution_count": null,
      "outputs": [
        {
          "output_type": "stream",
          "name": "stdout",
          "text": [
            "Accuracy over the training data :100.0%\n"
          ]
        }
      ]
    },
    {
      "cell_type": "code",
      "source": [
        "Y_pred = logreg(X_test,W)\n",
        "accuracy = ((Y_pred > 0.5) == Y_test).float().mean()\n",
        "print(\"Accuracy over the testing data :{}%\".format(accuracy.item()*100))"
      ],
      "metadata": {
        "id": "kq0cEj7i3lNb",
        "colab": {
          "base_uri": "https://localhost:8080/"
        },
        "outputId": "8ff7b552-4589-48cc-ac7c-b4646614f96c"
      },
      "execution_count": null,
      "outputs": [
        {
          "output_type": "stream",
          "name": "stdout",
          "text": [
            "Accuracy over the testing data :100.0%\n"
          ]
        }
      ]
    },
    {
      "cell_type": "code",
      "source": [],
      "metadata": {
        "id": "8-puaMQsux0o"
      },
      "execution_count": null,
      "outputs": []
    },
    {
      "cell_type": "markdown",
      "source": [
        "# Some Visualizations"
      ],
      "metadata": {
        "id": "HHCj35a76MXs"
      }
    },
    {
      "cell_type": "markdown",
      "source": [
        "## Loss and Accuracy"
      ],
      "metadata": {
        "id": "ij0XsLm_6RhE"
      }
    },
    {
      "cell_type": "code",
      "source": [
        "# Training Loss\n",
        "plt.plot(list(range(1,num_epochs+1)), loss, c='b', label='Training Loss')\n",
        "plt.xlabel('Epoch')\n",
        "plt.ylabel('Training Loss')\n",
        "plt.legend()\n",
        "plt.show()"
      ],
      "metadata": {
        "colab": {
          "base_uri": "https://localhost:8080/",
          "height": 279
        },
        "id": "yU3jLi686UE4",
        "outputId": "18791c33-fc6c-447d-dc26-b7da876d9a2c"
      },
      "execution_count": null,
      "outputs": [
        {
          "output_type": "display_data",
          "data": {
            "text/plain": [
              "<Figure size 432x288 with 1 Axes>"
            ],
            "image/png": "[encoded data removed]"
          },
          "metadata": {
            "needs_background": "light"
          }
        }
      ]
    },
    {
      "cell_type": "code",
      "source": [
        "# Training Accuracy\n",
        "plt.plot(list(range(1,num_epochs+1)), acc, c='b', label='Training Accuracy')\n",
        "plt.xlabel('Epoch')\n",
        "plt.ylabel('Training Accuracy')\n",
        "plt.legend()\n",
        "plt.show()"
      ],
      "metadata": {
        "colab": {
          "base_uri": "https://localhost:8080/",
          "height": 279
        },
        "id": "Al_7hj2h6io5",
        "outputId": "8cc51613-9781-4e58-84da-77365c14eca3"
      },
      "execution_count": null,
      "outputs": [
        {
          "output_type": "display_data",
          "data": {
            "text/plain": [
              "<Figure size 432x288 with 1 Axes>"
            ],
            "image/png": "[encoded data removed]"
          },
          "metadata": {
            "needs_background": "light"
          }
        }
      ]
    },
    {
      "cell_type": "code",
      "source": [
        "Y.detach().squeeze().numpy()"
      ],
      "metadata": {
        "colab": {
          "base_uri": "https://localhost:8080/"
        },
        "id": "M0G3UOjC6HuS",
        "outputId": "44141870-958c-4f21-d5bc-116a75e219cd"
      },
      "execution_count": null,
      "outputs": [
        {
          "output_type": "execute_result",
          "data": {
            "text/plain": [
              "array([1., 1., 1., 1., 1., 1., 1., 1., 1., 1., 1., 1., 1., 1., 1., 1., 1.,\n",
              "       1., 1., 1., 1., 1., 1., 1., 1., 1., 1., 1., 1., 1., 1., 1., 1., 1.,\n",
              "       1., 1., 1., 1., 1., 1., 1., 1., 1., 1., 1., 1., 1., 1., 1., 1., 0.,\n",
              "       0., 0., 0., 0., 0., 0., 0., 0., 0., 0., 0., 0., 0., 0., 0., 0., 0.,\n",
              "       0., 0., 0., 0., 0., 0., 0., 0., 0., 0., 0., 0., 0., 0., 0., 0., 0.,\n",
              "       0., 0., 0., 0., 0., 0., 0., 0., 0., 0., 0., 0., 0., 0., 0.])"
            ]
          },
          "metadata": {},
          "execution_count": 42
        }
      ]
    },
    {
      "cell_type": "code",
      "source": [
        "plt.scatter(X[:,0].detach().numpy(),X[:,1].detach().numpy(),c=Y.detach().squeeze().numpy().tolist(),label=list(label_names.values()))\n",
        "plt.title('Plotting Original Labels and Features')\n",
        "plt.legend()\n",
        "plt.plot()"
      ],
      "metadata": {
        "colab": {
          "base_uri": "https://localhost:8080/",
          "height": 298
        },
        "id": "7BPLldS9oduY",
        "outputId": "4dae3965-d406-4a89-ae0d-354cd8b59688"
      },
      "execution_count": null,
      "outputs": [
        {
          "output_type": "execute_result",
          "data": {
            "text/plain": [
              "[]"
            ]
          },
          "metadata": {},
          "execution_count": 32
        },
        {
          "output_type": "display_data",
          "data": {
            "text/plain": [
              "<Figure size 432x288 with 1 Axes>"
            ],
            "image/png": "[encoded data removed]"
          },
          "metadata": {
            "needs_background": "light"
          }
        }
      ]
    },
    {
      "cell_type": "code",
      "source": [
        "sns.scatterplot(X[:,0].detach().numpy(),X[:,1].detach().numpy(),hue=[label_names[i] for i in Y.detach().squeeze().numpy().tolist()])\n",
        "plt.title('Plotting Original Labels and Features')\n",
        "plt.plot()"
      ],
      "metadata": {
        "colab": {
          "base_uri": "https://localhost:8080/",
          "height": 352
        },
        "id": "iKaXcY9J9ulz",
        "outputId": "1d0e8637-036d-4c2f-8a1d-6df16782bcd9"
      },
      "execution_count": null,
      "outputs": [
        {
          "output_type": "stream",
          "name": "stderr",
          "text": [
            "/usr/local/lib/python3.9/dist-packages/seaborn/_decorators.py:36: FutureWarning: Pass the following variables as keyword args: x, y. From version 0.12, the only valid positional argument will be `data`, and passing other arguments without an explicit keyword will result in an error or misinterpretation.\n",
            "  warnings.warn(\n"
          ]
        },
        {
          "output_type": "execute_result",
          "data": {
            "text/plain": [
              "[]"
            ]
          },
          "metadata": {},
          "execution_count": 33
        },
        {
          "output_type": "display_data",
          "data": {
            "text/plain": [
              "<Figure size 432x288 with 1 Axes>"
            ],
            "image/png": "[encoded data removed]"
          },
          "metadata": {
            "needs_background": "light"
          }
        }
      ]
    },
    {
      "cell_type": "code",
      "source": [
        "ones = torch.ones((X.shape[0],1),dtype=torch.float64)\n",
        "X_all = torch.cat((X,ones),-1)\n",
        "Y_all = logreg(X_all,W)\n",
        "# plt.scatter(X[:,0].detach().numpy(),X[:,1].detach().numpy(),c=[Y_all.detach().numpy()>0.5])\n",
        "# plt.title('Plotting Predicted Labels and Features')\n",
        "# plt.legend()\n",
        "# plt.plot()\n",
        "sns.scatterplot(X[:,0].detach().numpy(),X[:,1].detach().numpy(),hue=[label_names[i] for i in (Y_all.detach().squeeze().numpy()>0.5).tolist()])\n",
        "plt.title('Plotting Predicted Labels and Features')\n",
        "plt.xlabel('X1')\n",
        "plt.ylabel('X2')\n",
        "plt.plot()"
      ],
      "metadata": {
        "colab": {
          "base_uri": "https://localhost:8080/",
          "height": 366
        },
        "id": "ETCbIFmPnSYk",
        "outputId": "55a9a96f-7d6c-4b6f-b37f-ae7eb2bddfe5"
      },
      "execution_count": null,
      "outputs": [
        {
          "output_type": "stream",
          "name": "stderr",
          "text": [
            "/usr/local/lib/python3.9/dist-packages/seaborn/_decorators.py:36: FutureWarning: Pass the following variables as keyword args: x, y. From version 0.12, the only valid positional argument will be `data`, and passing other arguments without an explicit keyword will result in an error or misinterpretation.\n",
            "  warnings.warn(\n"
          ]
        },
        {
          "output_type": "execute_result",
          "data": {
            "text/plain": [
              "[]"
            ]
          },
          "metadata": {},
          "execution_count": 50
        },
        {
          "output_type": "display_data",
          "data": {
            "text/plain": [
              "<Figure size 432x288 with 1 Axes>"
            ],
            "image/png": "[encoded data removed]"
          },
          "metadata": {
            "needs_background": "light"
          }
        }
      ]
    },
    {
      "cell_type": "code",
      "source": [],
      "metadata": {
        "id": "tZCqNAuL5pNx"
      },
      "execution_count": null,
      "outputs": []
    }
  ]
}